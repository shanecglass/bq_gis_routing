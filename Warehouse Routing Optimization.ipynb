{
  "nbformat": 4,
  "nbformat_minor": 0,
  "metadata": {
    "colab": {
      "cell_execution_strategy": "setup",
      "provenance": [],
      "name": "Warehouse Routing Optimization"
    },
    "kernelspec": {
      "name": "python3",
      "display_name": "Python 3"
    },
    "language_info": {
      "name": "python"
    }
  },
  "cells": [
    {
      "cell_type": "markdown",
      "source": [
        "# Setup"
      ],
      "metadata": {
        "id": "RqVLaLxmLNAI"
      }
    },
    {
      "cell_type": "markdown",
      "source": [
        "## Install and import libraries"
      ],
      "metadata": {
        "id": "NORL054bLP5D"
      }
    },
    {
      "cell_type": "code",
      "source": [
        "!pip install geopandas\n",
        "!pip install networkx"
      ],
      "metadata": {
        "colab": {
          "base_uri": "https://localhost:8080/"
        },
        "collapsed": true,
        "id": "c3ANGmhVIpKb",
        "executionInfo": {
          "status": "ok",
          "timestamp": 1738247767271,
          "user_tz": 300,
          "elapsed": 9422,
          "user": {
            "displayName": "",
            "userId": ""
          }
        },
        "outputId": "36ab0f30-cba3-49cb-8faa-c6ddd5d4b76a"
      },
      "execution_count": null,
      "outputs": [
        {
          "output_type": "stream",
          "name": "stdout",
          "text": [
            "Requirement already satisfied: geopandas in /usr/local/lib/python3.10/dist-packages (1.0.1)\n",
            "Requirement already satisfied: numpy>=1.22 in /usr/local/lib/python3.10/dist-packages (from geopandas) (1.26.4)\n",
            "Requirement already satisfied: pyogrio>=0.7.2 in /usr/local/lib/python3.10/dist-packages (from geopandas) (0.10.0)\n",
            "Requirement already satisfied: packaging in /usr/local/lib/python3.10/dist-packages (from geopandas) (24.2)\n",
            "Requirement already satisfied: pandas>=1.4.0 in /usr/local/lib/python3.10/dist-packages (from geopandas) (2.2.2)\n",
            "Requirement already satisfied: pyproj>=3.3.0 in /usr/local/lib/python3.10/dist-packages (from geopandas) (3.7.0)\n",
            "Requirement already satisfied: shapely>=2.0.0 in /usr/local/lib/python3.10/dist-packages (from geopandas) (2.0.6)\n",
            "Requirement already satisfied: python-dateutil>=2.8.2 in /usr/local/lib/python3.10/dist-packages (from pandas>=1.4.0->geopandas) (2.8.2)\n",
            "Requirement already satisfied: pytz>=2020.1 in /usr/local/lib/python3.10/dist-packages (from pandas>=1.4.0->geopandas) (2024.2)\n",
            "Requirement already satisfied: tzdata>=2022.7 in /usr/local/lib/python3.10/dist-packages (from pandas>=1.4.0->geopandas) (2024.2)\n",
            "Requirement already satisfied: certifi in /usr/local/lib/python3.10/dist-packages (from pyogrio>=0.7.2->geopandas) (2024.12.14)\n",
            "Requirement already satisfied: six>=1.5 in /usr/local/lib/python3.10/dist-packages (from python-dateutil>=2.8.2->pandas>=1.4.0->geopandas) (1.17.0)\n",
            "Requirement already satisfied: networkx in /usr/local/lib/python3.10/dist-packages (3.4.2)\n"
          ]
        }
      ]
    },
    {
      "cell_type": "code",
      "source": [
        "\n",
        "from google.cloud import bigquery\n",
        "from pyproj import CRS\n",
        "\n",
        "import geopandas as gpd\n",
        "import bigframes.pandas as bpd\n",
        "import matplotlib.pyplot as plt\n",
        "import numpy as np\n",
        "import networkx as nx\n",
        "import pandas as pd\n",
        "import shapely\n",
        "import shapely.geometry\n",
        "from shapely import wkt\n",
        "from shapely.geometry import Point\n",
        "from shapely.ops import nearest_points, snap\n",
        "\n",
        "\n",
        "client = bigquery.Client()\n",
        "\n"
      ],
      "metadata": {
        "id": "EGmxuZsiIYTA"
      },
      "execution_count": null,
      "outputs": []
    },
    {
      "cell_type": "markdown",
      "source": [
        "# Helper functions"
      ],
      "metadata": {
        "id": "dUyXrAujcQg-"
      }
    },
    {
      "cell_type": "markdown",
      "source": [
        "## Reproject BQ GIS to CRS"
      ],
      "metadata": {
        "id": "wl376b99cSd7"
      }
    },
    {
      "cell_type": "code",
      "source": [
        "def project_to_crs(df):\n",
        "  crs = CRS.from_dict(\n",
        "  {\"proj\": \"utm\", \"zone\": 31, \"north\": \"true\"}).to_authority()\n",
        "  df = df.to_crs(crs)\n",
        "  return df"
      ],
      "metadata": {
        "id": "V_Eeil3ecPkj"
      },
      "execution_count": null,
      "outputs": []
    },
    {
      "cell_type": "markdown",
      "source": [
        "## Create Geodataframe from Pandas dataframe"
      ],
      "metadata": {
        "id": "Gb8aWVmdLXhb"
      }
    },
    {
      "cell_type": "code",
      "source": [
        "def create_gdf(df):\n",
        "  df['geometry'] = df['geometry'].apply(wkt.loads)\n",
        "  geo_df = gpd.GeoDataFrame(df, geometry='geometry')\n",
        "  geo_df = geo_df.set_crs(\"epsg:3857\")\n",
        "  geo_df = project_to_crs(geo_df)\n",
        "  return geo_df\n"
      ],
      "metadata": {
        "id": "MJ8ErxWOiog0"
      },
      "execution_count": null,
      "outputs": []
    },
    {
      "cell_type": "markdown",
      "source": [
        "# BigQuery: Prepare and pull data"
      ],
      "metadata": {
        "id": "FnwpK31ZKTJD"
      }
    },
    {
      "cell_type": "code",
      "source": [
        "bpd.options.bigquery.project = \"scg-demo-dev\"\n",
        "bpd.options.bigquery.location = \"us-central1\"\n",
        "\n",
        "gdf_sql = '''\n",
        "    with RoadSegments AS(\n",
        "    SELECT\n",
        "      * EXCEPT(geometry),\n",
        "      ST_SNAPTOGRID(geometry, 0.000001) AS geometry,\n",
        "      ST_LENGTH(geometry) AS length\n",
        "    FROM\n",
        "      `scg-demo-dev.warehouse_floorplan.combined_layout`)\n",
        "\n",
        "  SELECT * FROM RoadSegments\n",
        "'''\n",
        "df = client.query_and_wait(gdf_sql).to_dataframe()\n",
        "\n",
        "geo_df = create_gdf(df)\n",
        "geo_df.head()\n"
      ],
      "metadata": {
        "colab": {
          "base_uri": "https://localhost:8080/",
          "height": 206
        },
        "id": "rfYOtmiPIZgW",
        "executionInfo": {
          "status": "ok",
          "timestamp": 1738247839468,
          "user_tz": 300,
          "elapsed": 871,
          "user": {
            "displayName": "",
            "userId": ""
          }
        },
        "outputId": "520972ea-d0ca-4fc4-deba-285c05ce1e37"
      },
      "execution_count": null,
      "outputs": [
        {
          "output_type": "execute_result",
          "data": {
            "text/plain": [
              "         id inventory_category_one inventory_category_two  \\\n",
              "0   AISLE_2                   None                   None   \n",
              "1   GRID_H8                   None                   None   \n",
              "2   AISLE_9                   None                   None   \n",
              "3  AISLE_10                   None                   None   \n",
              "4   AISLE_J                   None                   None   \n",
              "\n",
              "                                            geometry      length  \n",
              "0  LINESTRING (166021.443 0.001, 166021.443 0.001...  111.244505  \n",
              "1            LINESTRING (166021.444 0, 166021.444 0)   11.119510  \n",
              "2  LINESTRING (166021.443 0, 166021.443 0, 166021...  111.244515  \n",
              "3  LINESTRING (166021.443 0, 166021.443 0, 166021...  111.196145  \n",
              "4  LINESTRING (166021.444 0.001, 166021.444 0.001...  111.198620  "
            ],
            "text/html": [
              "\n",
              "  <div id=\"df-cfac75e7-399f-47f2-b452-15295f350d19\" class=\"colab-df-container\">\n",
              "    <div>\n",
              "<style scoped>\n",
              "    .dataframe tbody tr th:only-of-type {\n",
              "        vertical-align: middle;\n",
              "    }\n",
              "\n",
              "    .dataframe tbody tr th {\n",
              "        vertical-align: top;\n",
              "    }\n",
              "\n",
              "    .dataframe thead th {\n",
              "        text-align: right;\n",
              "    }\n",
              "</style>\n",
              "<table border=\"1\" class=\"dataframe\">\n",
              "  <thead>\n",
              "    <tr style=\"text-align: right;\">\n",
              "      <th></th>\n",
              "      <th>id</th>\n",
              "      <th>inventory_category_one</th>\n",
              "      <th>inventory_category_two</th>\n",
              "      <th>geometry</th>\n",
              "      <th>length</th>\n",
              "    </tr>\n",
              "  </thead>\n",
              "  <tbody>\n",
              "    <tr>\n",
              "      <th>0</th>\n",
              "      <td>AISLE_2</td>\n",
              "      <td>None</td>\n",
              "      <td>None</td>\n",
              "      <td>LINESTRING (166021.443 0.001, 166021.443 0.001...</td>\n",
              "      <td>111.244505</td>\n",
              "    </tr>\n",
              "    <tr>\n",
              "      <th>1</th>\n",
              "      <td>GRID_H8</td>\n",
              "      <td>None</td>\n",
              "      <td>None</td>\n",
              "      <td>LINESTRING (166021.444 0, 166021.444 0)</td>\n",
              "      <td>11.119510</td>\n",
              "    </tr>\n",
              "    <tr>\n",
              "      <th>2</th>\n",
              "      <td>AISLE_9</td>\n",
              "      <td>None</td>\n",
              "      <td>None</td>\n",
              "      <td>LINESTRING (166021.443 0, 166021.443 0, 166021...</td>\n",
              "      <td>111.244515</td>\n",
              "    </tr>\n",
              "    <tr>\n",
              "      <th>3</th>\n",
              "      <td>AISLE_10</td>\n",
              "      <td>None</td>\n",
              "      <td>None</td>\n",
              "      <td>LINESTRING (166021.443 0, 166021.443 0, 166021...</td>\n",
              "      <td>111.196145</td>\n",
              "    </tr>\n",
              "    <tr>\n",
              "      <th>4</th>\n",
              "      <td>AISLE_J</td>\n",
              "      <td>None</td>\n",
              "      <td>None</td>\n",
              "      <td>LINESTRING (166021.444 0.001, 166021.444 0.001...</td>\n",
              "      <td>111.198620</td>\n",
              "    </tr>\n",
              "  </tbody>\n",
              "</table>\n",
              "</div>\n",
              "    <div class=\"colab-df-buttons\">\n",
              "\n",
              "  <div class=\"colab-df-container\">\n",
              "    <button class=\"colab-df-convert\" onclick=\"convertToInteractive('df-cfac75e7-399f-47f2-b452-15295f350d19')\"\n",
              "            title=\"Convert this dataframe to an interactive table.\"\n",
              "            style=\"display:none;\">\n",
              "\n",
              "  <svg xmlns=\"http://www.w3.org/2000/svg\" height=\"24px\" viewBox=\"0 -960 960 960\">\n",
              "    <path d=\"M120-120v-720h720v720H120Zm60-500h600v-160H180v160Zm220 220h160v-160H400v160Zm0 220h160v-160H400v160ZM180-400h160v-160H180v160Zm440 0h160v-160H620v160ZM180-180h160v-160H180v160Zm440 0h160v-160H620v160Z\"/>\n",
              "  </svg>\n",
              "    </button>\n",
              "\n",
              "  <style>\n",
              "    .colab-df-container {\n",
              "      display:flex;\n",
              "      gap: 12px;\n",
              "    }\n",
              "\n",
              "    .colab-df-convert {\n",
              "      background-color: #E8F0FE;\n",
              "      border: none;\n",
              "      border-radius: 50%;\n",
              "      cursor: pointer;\n",
              "      display: none;\n",
              "      fill: #1967D2;\n",
              "      height: 32px;\n",
              "      padding: 0 0 0 0;\n",
              "      width: 32px;\n",
              "    }\n",
              "\n",
              "    .colab-df-convert:hover {\n",
              "      background-color: #E2EBFA;\n",
              "      box-shadow: 0px 1px 2px rgba(60, 64, 67, 0.3), 0px 1px 3px 1px rgba(60, 64, 67, 0.15);\n",
              "      fill: #174EA6;\n",
              "    }\n",
              "\n",
              "    .colab-df-buttons div {\n",
              "      margin-bottom: 4px;\n",
              "    }\n",
              "\n",
              "    [theme=dark] .colab-df-convert {\n",
              "      background-color: #3B4455;\n",
              "      fill: #D2E3FC;\n",
              "    }\n",
              "\n",
              "    [theme=dark] .colab-df-convert:hover {\n",
              "      background-color: #434B5C;\n",
              "      box-shadow: 0px 1px 3px 1px rgba(0, 0, 0, 0.15);\n",
              "      filter: drop-shadow(0px 1px 2px rgba(0, 0, 0, 0.3));\n",
              "      fill: #FFFFFF;\n",
              "    }\n",
              "  </style>\n",
              "\n",
              "    <script>\n",
              "      const buttonEl =\n",
              "        document.querySelector('#df-cfac75e7-399f-47f2-b452-15295f350d19 button.colab-df-convert');\n",
              "      buttonEl.style.display =\n",
              "        google.colab.kernel.accessAllowed ? 'block' : 'none';\n",
              "\n",
              "      async function convertToInteractive(key) {\n",
              "        const element = document.querySelector('#df-cfac75e7-399f-47f2-b452-15295f350d19');\n",
              "        const dataTable =\n",
              "          await google.colab.kernel.invokeFunction('convertToInteractive',\n",
              "                                                    [key], {});\n",
              "        if (!dataTable) return;\n",
              "\n",
              "        const docLinkHtml = 'Like what you see? Visit the ' +\n",
              "          '<a target=\"_blank\" href=https://colab.research.google.com/notebooks/data_table.ipynb>data table notebook</a>'\n",
              "          + ' to learn more about interactive tables.';\n",
              "        element.innerHTML = '';\n",
              "        dataTable['output_type'] = 'display_data';\n",
              "        await google.colab.output.renderOutput(dataTable, element);\n",
              "        const docLink = document.createElement('div');\n",
              "        docLink.innerHTML = docLinkHtml;\n",
              "        element.appendChild(docLink);\n",
              "      }\n",
              "    </script>\n",
              "  </div>\n",
              "\n",
              "\n",
              "<div id=\"df-fb447a7c-29d1-429f-954d-a76600a90b56\">\n",
              "  <button class=\"colab-df-quickchart\" onclick=\"quickchart('df-fb447a7c-29d1-429f-954d-a76600a90b56')\"\n",
              "            title=\"Suggest charts\"\n",
              "            style=\"display:none;\">\n",
              "\n",
              "<svg xmlns=\"http://www.w3.org/2000/svg\" height=\"24px\"viewBox=\"0 0 24 24\"\n",
              "     width=\"24px\">\n",
              "    <g>\n",
              "        <path d=\"M19 3H5c-1.1 0-2 .9-2 2v14c0 1.1.9 2 2 2h14c1.1 0 2-.9 2-2V5c0-1.1-.9-2-2-2zM9 17H7v-7h2v7zm4 0h-2V7h2v10zm4 0h-2v-4h2v4z\"/>\n",
              "    </g>\n",
              "</svg>\n",
              "  </button>\n",
              "\n",
              "<style>\n",
              "  .colab-df-quickchart {\n",
              "      --bg-color: #E8F0FE;\n",
              "      --fill-color: #1967D2;\n",
              "      --hover-bg-color: #E2EBFA;\n",
              "      --hover-fill-color: #174EA6;\n",
              "      --disabled-fill-color: #AAA;\n",
              "      --disabled-bg-color: #DDD;\n",
              "  }\n",
              "\n",
              "  [theme=dark] .colab-df-quickchart {\n",
              "      --bg-color: #3B4455;\n",
              "      --fill-color: #D2E3FC;\n",
              "      --hover-bg-color: #434B5C;\n",
              "      --hover-fill-color: #FFFFFF;\n",
              "      --disabled-bg-color: #3B4455;\n",
              "      --disabled-fill-color: #666;\n",
              "  }\n",
              "\n",
              "  .colab-df-quickchart {\n",
              "    background-color: var(--bg-color);\n",
              "    border: none;\n",
              "    border-radius: 50%;\n",
              "    cursor: pointer;\n",
              "    display: none;\n",
              "    fill: var(--fill-color);\n",
              "    height: 32px;\n",
              "    padding: 0;\n",
              "    width: 32px;\n",
              "  }\n",
              "\n",
              "  .colab-df-quickchart:hover {\n",
              "    background-color: var(--hover-bg-color);\n",
              "    box-shadow: 0 1px 2px rgba(60, 64, 67, 0.3), 0 1px 3px 1px rgba(60, 64, 67, 0.15);\n",
              "    fill: var(--button-hover-fill-color);\n",
              "  }\n",
              "\n",
              "  .colab-df-quickchart-complete:disabled,\n",
              "  .colab-df-quickchart-complete:disabled:hover {\n",
              "    background-color: var(--disabled-bg-color);\n",
              "    fill: var(--disabled-fill-color);\n",
              "    box-shadow: none;\n",
              "  }\n",
              "\n",
              "  .colab-df-spinner {\n",
              "    border: 2px solid var(--fill-color);\n",
              "    border-color: transparent;\n",
              "    border-bottom-color: var(--fill-color);\n",
              "    animation:\n",
              "      spin 1s steps(1) infinite;\n",
              "  }\n",
              "\n",
              "  @keyframes spin {\n",
              "    0% {\n",
              "      border-color: transparent;\n",
              "      border-bottom-color: var(--fill-color);\n",
              "      border-left-color: var(--fill-color);\n",
              "    }\n",
              "    20% {\n",
              "      border-color: transparent;\n",
              "      border-left-color: var(--fill-color);\n",
              "      border-top-color: var(--fill-color);\n",
              "    }\n",
              "    30% {\n",
              "      border-color: transparent;\n",
              "      border-left-color: var(--fill-color);\n",
              "      border-top-color: var(--fill-color);\n",
              "      border-right-color: var(--fill-color);\n",
              "    }\n",
              "    40% {\n",
              "      border-color: transparent;\n",
              "      border-right-color: var(--fill-color);\n",
              "      border-top-color: var(--fill-color);\n",
              "    }\n",
              "    60% {\n",
              "      border-color: transparent;\n",
              "      border-right-color: var(--fill-color);\n",
              "    }\n",
              "    80% {\n",
              "      border-color: transparent;\n",
              "      border-right-color: var(--fill-color);\n",
              "      border-bottom-color: var(--fill-color);\n",
              "    }\n",
              "    90% {\n",
              "      border-color: transparent;\n",
              "      border-bottom-color: var(--fill-color);\n",
              "    }\n",
              "  }\n",
              "</style>\n",
              "\n",
              "  <script>\n",
              "    async function quickchart(key) {\n",
              "      const quickchartButtonEl =\n",
              "        document.querySelector('#' + key + ' button');\n",
              "      quickchartButtonEl.disabled = true;  // To prevent multiple clicks.\n",
              "      quickchartButtonEl.classList.add('colab-df-spinner');\n",
              "      try {\n",
              "        const charts = await google.colab.kernel.invokeFunction(\n",
              "            'suggestCharts', [key], {});\n",
              "      } catch (error) {\n",
              "        console.error('Error during call to suggestCharts:', error);\n",
              "      }\n",
              "      quickchartButtonEl.classList.remove('colab-df-spinner');\n",
              "      quickchartButtonEl.classList.add('colab-df-quickchart-complete');\n",
              "    }\n",
              "    (() => {\n",
              "      let quickchartButtonEl =\n",
              "        document.querySelector('#df-fb447a7c-29d1-429f-954d-a76600a90b56 button');\n",
              "      quickchartButtonEl.style.display =\n",
              "        google.colab.kernel.accessAllowed ? 'block' : 'none';\n",
              "    })();\n",
              "  </script>\n",
              "</div>\n",
              "\n",
              "    </div>\n",
              "  </div>\n"
            ]
          },
          "metadata": {},
          "execution_count": 7
        }
      ]
    },
    {
      "cell_type": "markdown",
      "source": [
        "# Build Graph"
      ],
      "metadata": {
        "id": "50yt8QtvKcCo"
      }
    },
    {
      "cell_type": "code",
      "source": [
        "# Build the graph from the snapped GeoDataFrame\n",
        "# G.clear()\n",
        "G = nx.Graph()\n",
        "for index, row in geo_df.iterrows():\n",
        "\n",
        "    line = row['geometry']\n",
        "    length = row['length']\n",
        "    id = row['id']\n",
        "    coords = list(line.coords)\n",
        "    inventory_one = row['inventory_category_one']\n",
        "    inventory_two = row['inventory_category_two']\n",
        "    # start_id=f\"{row['id']}_start\"\n",
        "    # end_id=f\"{row['id']}_end\"\n",
        "    for i in range(len(coords) - 1):\n",
        "        u = coords[i]\n",
        "        # G.add_node(u)\n",
        "        v = coords[i + 1]\n",
        "        # G.add_node(v, id=end_id)\n",
        "        G.add_edge(u, v, id=id, length=line.length, inventory_one = inventory_one, inventory_two=inventory_two )\n",
        "\n",
        "nx.is_connected(G)"
      ],
      "metadata": {
        "colab": {
          "base_uri": "https://localhost:8080/"
        },
        "id": "OcDnpOr9Zahh",
        "executionInfo": {
          "status": "ok",
          "timestamp": 1738247849328,
          "user_tz": 300,
          "elapsed": 195,
          "user": {
            "displayName": "",
            "userId": ""
          }
        },
        "outputId": "37fe4731-d8f7-4f55-d820-8635cd93d8ef"
      },
      "execution_count": null,
      "outputs": [
        {
          "output_type": "execute_result",
          "data": {
            "text/plain": [
              "True"
            ]
          },
          "metadata": {},
          "execution_count": 10
        }
      ]
    },
    {
      "cell_type": "markdown",
      "source": [
        "## Plot floorplan graph"
      ],
      "metadata": {
        "id": "WKTHLU-ZKkfo"
      }
    },
    {
      "cell_type": "code",
      "source": [
        "# Plotting\n",
        "for (n1, n2, d) in G.edges(data=True):\n",
        "    if 'geometry' in d:\n",
        "        del d['geometry'] # No 'geometry' attribute added now, so this is not necessary\n",
        "\n",
        "f, ax = plt.subplots(1, 2, figsize=(30, 15), sharex=True, sharey=True)\n",
        "\n",
        "# Plot the original GeoDataFrame\n",
        "geo_df.plot(color=\"k\", ax=ax[0])\n",
        "ax[0].set_title(\"Original Roads\")\n",
        "ax[0].axis(\"off\")\n",
        "\n",
        "# Plot the graph\n",
        "pos = dict(zip(G.nodes, G.nodes)) # Position nodes based on their coordinates\n",
        "nx.draw(G, pos, ax=ax[1], with_labels=False, node_size=50, node_color=\"red\") # Adjust node size and color for better visualization\n",
        "ax[1].set_title(\"Graph Representation\")\n",
        "ax[1].axis(\"off\")\n",
        "\n",
        "\n",
        "plt.tight_layout() # to prevent labels from getting cut off\n",
        "plt.show()"
      ],
      "metadata": {
        "colab": {
          "base_uri": "https://localhost:8080/",
          "height": 787
        },
        "id": "Gw2_J0FIQNoP",
        "executionInfo": {
          "status": "ok",
          "timestamp": 1738247852643,
          "user_tz": 300,
          "elapsed": 1125,
          "user": {
            "displayName": "",
            "userId": ""
          }
        },
        "outputId": "47f9eab6-eb70-4ff1-a1fe-a70c95a00764"
      },
      "execution_count": null,
      "outputs": [
        {
          "output_type": "display_data",
          "data": {
            "text/plain": [
              "<Figure size 3000x1500 with 2 Axes>"
            ],
            "image/png": "[encoded data removed]"
          },
          "metadata": {}
        }
      ]
    },
    {
      "cell_type": "markdown",
      "source": [
        "#Plan a route"
      ],
      "metadata": {
        "id": "Y0w-u9MkKpiL"
      }
    },
    {
      "cell_type": "code",
      "source": [
        "item_one_node = \"GRID_I7\" # @param {\"type\":\"string\",\"placeholder\":\"GRID_I7\"}\n",
        "item_two_node = \"GRID_B3\" # @param {\"type\":\"string\",\"placeholder\":\"GRID_B3\"}\n",
        "start_node = \"START_POINT\"\n",
        "end_node = \"END_POINT\"\n",
        "\n",
        "df_search = geo_df.copy()\n",
        "\n",
        "start_node_edge = df_search.query('id == @start_node')['geometry'].get_coordinates().iloc[0]\n",
        "item_one_node_node_edge = df_search.query('id == @item_one_node')['geometry'].get_coordinates()\n",
        "item_two_node_edge = df_search.query('id == @item_two_node')['geometry'].get_coordinates()\n",
        "end_node_edge = df_search.query('id == @end_node')['geometry'].get_coordinates()\n",
        "\n",
        "start_node_edge = start_node_edge\n",
        "item_one_edge = item_one_node_node_edge.iloc[0]\n",
        "item_two_edge = item_two_node_edge.iloc[0]\n",
        "end_node_edge = end_node_edge.iloc[0]\n",
        "\n",
        "start_node = (start_node_edge['x'], start_node_edge['y'])\n",
        "item_one_node = (item_one_edge['x'], item_one_edge['y'])\n",
        "item_two_node = (item_two_edge['x'], item_two_edge['y'])\n",
        "end_node = (end_node_edge['x'], end_node_edge['y'])\n"
      ],
      "metadata": {
        "id": "wNGJap0FJt1U",
        "executionInfo": {
          "status": "ok",
          "timestamp": 1738257112557,
          "user_tz": 300,
          "elapsed": 134,
          "user": {
            "displayName": "",
            "userId": ""
          }
        }
      },
      "execution_count": 46,
      "outputs": []
    },
    {
      "cell_type": "markdown",
      "source": [
        "## Compute distances"
      ],
      "metadata": {
        "id": "rh7roWHvKs8g"
      }
    },
    {
      "cell_type": "code",
      "source": [
        "\n",
        "# print(df_search.head())\n",
        "\n",
        "\n",
        "\n",
        "\n",
        "# print(all_nodes)\n",
        "\n",
        "all_routes = {}\n",
        "route1 = {\"start\": start_node, \"first_item\": item_one_node, \"second_item\": item_two_node, \"end\": end_node}\n",
        "all_routes['route1'] = route1\n",
        "route2 = {\"start\": start_node, \"first_item\": item_two_node, \"second_item\": item_one_node, \"end\": end_node}\n",
        "all_routes['route2'] = route2\n",
        "route_two = nx.shortest_path_length(G, start_node, item_two_node, weight='length') + nx.shortest_path_length(G, item_two_node, item_one_node, weight='length') + nx.shortest_path_length(G, item_two_node, end_node, weight='length')\n",
        "\n",
        "def find_shortest_routes(all_routes):\n",
        "  route_len = {}\n",
        "  for index in all_routes:\n",
        "    print(index)\n",
        "    route = all_routes[f\"{index}\"]\n",
        "    route_len[f\"{index}\"] = nx.shortest_path_length(G, route['start'], route['first_item'], weight='length') + nx.shortest_path_length(G, route['first_item'], route['second_item'], weight='length') + nx.shortest_path_length(G, route['second_item'], route['end'], weight='length')\n",
        "  shortest_route = min(route_len, key=route_len.get)\n",
        "  route_path = all_routes[shortest_route]\n",
        "  shortest_path_nodes_one = nx.shortest_path(G, source=route_path['start'], target=route_path['first_item'])\n",
        "  shortest_path_nodes_two = nx.shortest_path(G, source=route_path['first_item'], target=route_path['second_item'])\n",
        "  shortest_path_nodes_three = nx.shortest_path(G, source=route_path['second_item'], target=route_path['end'])\n",
        "  shortest_path_nodes = shortest_path_nodes_one + shortest_path_nodes_two + shortest_path_nodes_three\n",
        "  shortest_path_edges_one = list(zip(shortest_path_nodes_one,shortest_path_nodes_one[1:]))\n",
        "  shortest_path_edges_two = list(zip(shortest_path_nodes_two,shortest_path_nodes_two[1:]))\n",
        "  shortest_path_edges_three = list(zip(shortest_path_nodes_three,shortest_path_nodes_three[1:]))\n",
        "  print(f\"Shortest path is: 1) Start Node, 2) {route_path['first_item']}, 3){route_path['second_item']}, 4) End Node\")\n",
        "  return(shortest_path_nodes, shortest_path_edges_one, shortest_path_edges_two, shortest_path_edges_three, route_path)\n",
        "\n",
        "shortest_path_nodes, shortest_path_edges_one, shortest_path_edges_two, shortest_path_edges_three, route_path = find_shortest_routes(all_routes)\n"
      ],
      "metadata": {
        "id": "OuRdS6dX40LO",
        "executionInfo": {
          "status": "ok",
          "timestamp": 1738257280140,
          "user_tz": 300,
          "elapsed": 164,
          "user": {
            "displayName": "",
            "userId": ""
          }
        },
        "colab": {
          "base_uri": "https://localhost:8080/"
        },
        "outputId": "3b39937e-1d85-4c90-f504-0fbb423dccc5"
      },
      "execution_count": 51,
      "outputs": [
        {
          "output_type": "stream",
          "name": "stdout",
          "text": [
            "route1\n",
            "route2\n",
            "Shortest path is: 1) Start Node, 2) (166021.4431806386, 0.0007954240911345467), 3)(166021.4439814235, 0.00039771204556464135), 4) End Node\n"
          ]
        }
      ]
    },
    {
      "cell_type": "markdown",
      "source": [
        "## Visualize route\n",
        "\n",
        "\n",
        "\n",
        "*   Red line: Path from start point to first item (where boxes are stored)\n",
        "*   Green line: Path from first item to second item\n",
        "*   Blue line: Path from second item to end point (where trucks are loaded)\n",
        "\n"
      ],
      "metadata": {
        "id": "XFWvdEX2Kubb"
      }
    },
    {
      "cell_type": "code",
      "source": [
        "f, ax = plt.subplots(1, figsize=(15, 15))\n",
        "\n",
        "ax.set_title(\"Shortest path, no metric\")\n",
        "positions = dict(zip(G.nodes, G.nodes)) # Position nodes based on their coordinates\n",
        "\n",
        "nx.draw(G,positions,node_color='k', node_size=10)\n",
        "\n",
        "nx.draw_networkx_nodes(G,positions, nodelist=shortest_path_nodes, node_color='r', node_size=10)\n",
        "nx.draw_networkx_nodes(G,positions, nodelist=[start_node, end_node], node_color='r', node_size=100, node_shape='d')\n",
        "nx.draw_networkx_edges(G,positions,edgelist=shortest_path_edges_one,edge_color='r',width=5)\n",
        "nx.draw_networkx_edges(G,positions,edgelist=shortest_path_edges_two,edge_color='g',width=5)\n",
        "nx.draw_networkx_edges(G,positions,edgelist=shortest_path_edges_three,edge_color='b',width=5)\n",
        "\n",
        "plt.show()"
      ],
      "metadata": {
        "colab": {
          "base_uri": "https://localhost:8080/",
          "height": 1000
        },
        "id": "vzg6Vmbb6bWG",
        "executionInfo": {
          "status": "ok",
          "timestamp": 1738257285552,
          "user_tz": 300,
          "elapsed": 300,
          "user": {
            "displayName": "",
            "userId": ""
          }
        },
        "outputId": "ceeaa732-98ad-45f9-bf22-320b2b585eee"
      },
      "execution_count": 52,
      "outputs": [
        {
          "output_type": "display_data",
          "data": {
            "text/plain": [
              "<Figure size 1500x1500 with 1 Axes>"
            ],
            "image/png": "[encoded data removed]"
          },
          "metadata": {}
        }
      ]
    },
    {
      "cell_type": "markdown",
      "source": [],
      "metadata": {
        "id": "HpxAsWifr-V3"
      }
    }
  ]
}